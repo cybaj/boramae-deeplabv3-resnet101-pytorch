{
 "cells": [
  {
   "cell_type": "code",
   "execution_count": 1,
   "metadata": {},
   "outputs": [
    {
     "name": "stdout",
     "output_type": "stream",
     "text": [
      "20200625_120746.175532 trainset_index: 3\n",
      "\n",
      "20200625_120746.175532\n",
      "20200625_112919.246777 trainset_index: 1\n",
      "\n",
      "20200625_112919.246777\n",
      "20200627_160235.655611 trainset_index: 2\n",
      "\n",
      "20200627_160235.655611\n",
      "20200614_092230.655194\n"
     ]
    }
   ],
   "source": [
    "import os\n",
    "targets = os.listdir('logs')\n",
    "def get_config(target_path):\n",
    "    with open(os.path.join(target_path, 'config.yaml'), 'r') as fp:\n",
    "        lines = fp.readlines()\n",
    "    return lines\n",
    "\n",
    "for target in targets:\n",
    "    target_path = os.path.join('logs', target)\n",
    "    if not 'model_best.pth.tar' in os.listdir(target_path):\n",
    "        continue\n",
    "    for meta in get_config(target_path):\n",
    "        if meta.startswith('trainset_index'):\n",
    "            print(target, meta)\n",
    "    print(target)"
   ]
  },
  {
   "cell_type": "code",
   "execution_count": 2,
   "metadata": {},
   "outputs": [],
   "source": [
    "import log"
   ]
  },
  {
   "cell_type": "code",
   "execution_count": 3,
   "metadata": {},
   "outputs": [],
   "source": [
    "target_path = log.make_log_path('20200625_120746.175532')"
   ]
  },
  {
   "cell_type": "code",
   "execution_count": 4,
   "metadata": {},
   "outputs": [
    {
     "data": {
      "text/plain": [
       "{'valid/loss': {'value': '151004.8322616822', 'iter_num': 40000, 'index': 7},\n",
       " 'valid/acc': {'value': '0.8361400410453266', 'iter_num': 40000, 'index': 8},\n",
       " 'valid/acc_cls': {'value': '0.6586547758991407',\n",
       "  'iter_num': 40000,\n",
       "  'index': 9},\n",
       " 'valid/mean_iu': {'value': '0.5632148049911636',\n",
       "  'iter_num': 40000,\n",
       "  'index': 10},\n",
       " 'valid/fwavacc': {'value': '0.7234916211650441',\n",
       "  'iter_num': 40000,\n",
       "  'index': 11}}"
      ]
     },
     "execution_count": 4,
     "metadata": {},
     "output_type": "execute_result"
    }
   ],
   "source": [
    "log.parse_iter(target_path, 40000, target='validation')"
   ]
  },
  {
   "cell_type": "code",
   "execution_count": 5,
   "metadata": {},
   "outputs": [],
   "source": [
    "valid_result = {}\n",
    "for i in range(0, 50001, 4000):\n",
    "    valid_result[str(i)] = log.parse_iter(target_path, i, target='validation')"
   ]
  },
  {
   "cell_type": "code",
   "execution_count": 6,
   "metadata": {},
   "outputs": [
    {
     "name": "stdout",
     "output_type": "stream",
     "text": [
      "{'value': '0.5761431933933441', 'iter_num': 8000, 'index': 10}\n",
      "{'value': '0.5692663554064149', 'iter_num': 12000, 'index': 10}\n",
      "{'value': '0.5682139758902169', 'iter_num': 16000, 'index': 10}\n",
      "{'value': '0.5656955663588725', 'iter_num': 36000, 'index': 10}\n",
      "{'value': '0.563855429890821', 'iter_num': 4000, 'index': 10}\n",
      "{'value': '0.5634588068478683', 'iter_num': 20000, 'index': 10}\n",
      "{'value': '0.5632148049911636', 'iter_num': 40000, 'index': 10}\n",
      "{'value': '0.5621624189885914', 'iter_num': 32000, 'index': 10}\n",
      "{'value': '0.5597344717146503', 'iter_num': 28000, 'index': 10}\n",
      "{'value': '0.5589434615118202', 'iter_num': 48000, 'index': 10}\n",
      "{'value': '0.5508334564199292', 'iter_num': 44000, 'index': 10}\n",
      "{'value': '0.5461688534960945', 'iter_num': 24000, 'index': 10}\n",
      "{'value': '0.401829601687226', 'iter_num': 0, 'index': 10}\n"
     ]
    }
   ],
   "source": [
    "for item in sorted(list(valid_result.values()), key=lambda item: item['valid/mean_iu']['value'], reverse=True):\n",
    "    print(item['valid/mean_iu'])"
   ]
  },
  {
   "cell_type": "code",
   "execution_count": 7,
   "metadata": {},
   "outputs": [
    {
     "name": "stdout",
     "output_type": "stream",
     "text": [
      "{'value': '0.8406775367451224', 'iter_num': 8000, 'index': 8}\n",
      "{'value': '0.8385385727499896', 'iter_num': 16000, 'index': 8}\n",
      "{'value': '0.8384602745586538', 'iter_num': 48000, 'index': 8}\n",
      "{'value': '0.8365310577147784', 'iter_num': 36000, 'index': 8}\n",
      "{'value': '0.8364848019605015', 'iter_num': 32000, 'index': 8}\n",
      "{'value': '0.8363992645141275', 'iter_num': 12000, 'index': 8}\n",
      "{'value': '0.8361400410453266', 'iter_num': 40000, 'index': 8}\n",
      "{'value': '0.8354072545301467', 'iter_num': 24000, 'index': 8}\n",
      "{'value': '0.8349258172958293', 'iter_num': 4000, 'index': 8}\n",
      "{'value': '0.8320414293258586', 'iter_num': 28000, 'index': 8}\n",
      "{'value': '0.831354082586931', 'iter_num': 20000, 'index': 8}\n",
      "{'value': '0.8286321124928521', 'iter_num': 44000, 'index': 8}\n",
      "{'value': '0.7899897340784736', 'iter_num': 0, 'index': 8}\n"
     ]
    }
   ],
   "source": [
    "for item in sorted(list(valid_result.values()), key=lambda item: item['valid/acc']['value'], reverse=True):\n",
    "    print(item['valid/acc'])"
   ]
  },
  {
   "cell_type": "code",
   "execution_count": null,
   "metadata": {},
   "outputs": [],
   "source": []
  }
 ],
 "metadata": {
  "kernelspec": {
   "display_name": "Python 3",
   "language": "python",
   "name": "python3"
  },
  "language_info": {
   "codemirror_mode": {
    "name": "ipython",
    "version": 3
   },
   "file_extension": ".py",
   "mimetype": "text/x-python",
   "name": "python",
   "nbconvert_exporter": "python",
   "pygments_lexer": "ipython3",
   "version": "3.7.7"
  }
 },
 "nbformat": 4,
 "nbformat_minor": 4
}
